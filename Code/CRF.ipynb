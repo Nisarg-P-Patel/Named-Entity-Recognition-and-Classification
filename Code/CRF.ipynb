{
 "cells": [
  {
   "cell_type": "code",
   "execution_count": 2,
   "id": "6a6664c8-a9b9-4b52-a6fd-966575781b22",
   "metadata": {},
   "outputs": [],
   "source": [
    "#Data analysis\n",
    "import pandas as pd\n",
    "import numpy as np\n",
    "#Data visualisation\n",
    "import matplotlib.pyplot as plt\n",
    "import seaborn as sns\n",
    "sns.set(color_codes=True)\n",
    "sns.set(font_scale=1)\n",
    "%matplotlib inline\n",
    "%config InlineBackend.figure_format = 'svg'\n",
    "#Modeling\n",
    "from sklearn.model_selection import cross_val_predict, cross_val_score\n",
    "from sklearn.ensemble import RandomForestClassifier\n",
    "# from sklearn_crfsuite import CRF, scorers, metrics\n",
    "# import sklearn_crfsuite\n",
    "# from sklearn_crfsuite import scorers\n",
    "# from sklearn_crfsuite import metrics\n",
    "# from sklearn_crfsuite.metrics import flat_classification_report\n",
    "from sklearn.metrics import classification_report, make_scorer\n",
    "from sklearn.model_selection import RandomizedSearchCV\n",
    "from sklearn.model_selection import GridSearchCV\n",
    "import scipy.stats\n",
    "import nltk\n",
    "import sklearn_crfsuite\n",
    "# import eli5\n",
    "import os\n",
    "os.chdir(\"/scratch/spanchak/SWM\")"
   ]
  },
  {
   "cell_type": "code",
   "execution_count": 3,
   "id": "27f10fea-d89a-46c6-8a2d-61b9e6f20f34",
   "metadata": {},
   "outputs": [],
   "source": [
    "import re\n",
    "import ast"
   ]
  },
  {
   "cell_type": "code",
   "execution_count": 3,
   "id": "4d8ae31a-4d5b-4808-bfb4-f103ed15e441",
   "metadata": {},
   "outputs": [
    {
     "name": "stdout",
     "output_type": "stream",
     "text": [
      "['y_train.json', 'test_sample.csv', 'NER_tagged_data.csv', 'train.csv', 'X_train.json', 'test.csv', 'train_sample.csv']\n"
     ]
    }
   ],
   "source": [
    "print(os.listdir())"
   ]
  },
  {
   "cell_type": "code",
   "execution_count": 4,
   "id": "34050103-efc2-4d0f-b858-0df9bc8be16c",
   "metadata": {},
   "outputs": [],
   "source": [
    "data = pd.read_csv(\"NER_tagged_data.csv\")"
   ]
  },
  {
   "cell_type": "code",
   "execution_count": 5,
   "id": "756c05da-28c6-45b7-9da1-c09a04353444",
   "metadata": {},
   "outputs": [
    {
     "data": {
      "text/plain": [
       "(1204518, 5)"
      ]
     },
     "execution_count": 5,
     "metadata": {},
     "output_type": "execute_result"
    }
   ],
   "source": [
    "data.shape"
   ]
  },
  {
   "cell_type": "code",
   "execution_count": 6,
   "id": "14ba0b14-354b-4e51-a7f3-e162dc35a2cf",
   "metadata": {},
   "outputs": [
    {
     "data": {
      "text/html": [
       "<div>\n",
       "<style scoped>\n",
       "    .dataframe tbody tr th:only-of-type {\n",
       "        vertical-align: middle;\n",
       "    }\n",
       "\n",
       "    .dataframe tbody tr th {\n",
       "        vertical-align: top;\n",
       "    }\n",
       "\n",
       "    .dataframe thead th {\n",
       "        text-align: right;\n",
       "    }\n",
       "</style>\n",
       "<table border=\"1\" class=\"dataframe\">\n",
       "  <thead>\n",
       "    <tr style=\"text-align: right;\">\n",
       "      <th></th>\n",
       "      <th>tweet_id</th>\n",
       "      <th>tweet_text</th>\n",
       "      <th>tweet_type</th>\n",
       "      <th>language</th>\n",
       "      <th>NER_tagged_data</th>\n",
       "    </tr>\n",
       "  </thead>\n",
       "  <tbody>\n",
       "    <tr>\n",
       "      <th>0</th>\n",
       "      <td>1661792408139431937</td>\n",
       "      <td>Valencia player, diakhaby didn't pose in the p...</td>\n",
       "      <td>retweet</td>\n",
       "      <td>en</td>\n",
       "      <td>[('Valencia', 'PERSON'), ('player', 'NON_NER')...</td>\n",
       "    </tr>\n",
       "    <tr>\n",
       "      <th>1</th>\n",
       "      <td>1661829914817863717</td>\n",
       "      <td>Self-proclaimed antifa member &amp; researcher, di...</td>\n",
       "      <td>retweet</td>\n",
       "      <td>en</td>\n",
       "      <td>[('Self', 'NON_NER'), ('-', 'NON_NER'), ('proc...</td>\n",
       "    </tr>\n",
       "    <tr>\n",
       "      <th>2</th>\n",
       "      <td>1661224704567308289</td>\n",
       "      <td>I cannot trust self-proclaim \"anti-war russian...</td>\n",
       "      <td>retweet</td>\n",
       "      <td>en</td>\n",
       "      <td>[('I', 'NON_NER'), ('can', 'NON_NER'), ('not',...</td>\n",
       "    </tr>\n",
       "    <tr>\n",
       "      <th>3</th>\n",
       "      <td>1661702658506489857</td>\n",
       "      <td>We have seen you people in action and you all ...</td>\n",
       "      <td>reply</td>\n",
       "      <td>en</td>\n",
       "      <td>[('We', 'NON_NER'), ('have', 'NON_NER'), ('see...</td>\n",
       "    </tr>\n",
       "    <tr>\n",
       "      <th>4</th>\n",
       "      <td>1661672242391187457</td>\n",
       "      <td>We don't know about others, but our champ, is ...</td>\n",
       "      <td>retweet</td>\n",
       "      <td>en</td>\n",
       "      <td>[('We', 'NON_NER'), ('do', 'NON_NER'), (\"n't\",...</td>\n",
       "    </tr>\n",
       "  </tbody>\n",
       "</table>\n",
       "</div>"
      ],
      "text/plain": [
       "              tweet_id                                         tweet_text  \\\n",
       "0  1661792408139431937  Valencia player, diakhaby didn't pose in the p...   \n",
       "1  1661829914817863717  Self-proclaimed antifa member & researcher, di...   \n",
       "2  1661224704567308289  I cannot trust self-proclaim \"anti-war russian...   \n",
       "3  1661702658506489857  We have seen you people in action and you all ...   \n",
       "4  1661672242391187457  We don't know about others, but our champ, is ...   \n",
       "\n",
       "  tweet_type language                                    NER_tagged_data  \n",
       "0    retweet       en  [('Valencia', 'PERSON'), ('player', 'NON_NER')...  \n",
       "1    retweet       en  [('Self', 'NON_NER'), ('-', 'NON_NER'), ('proc...  \n",
       "2    retweet       en  [('I', 'NON_NER'), ('can', 'NON_NER'), ('not',...  \n",
       "3      reply       en  [('We', 'NON_NER'), ('have', 'NON_NER'), ('see...  \n",
       "4    retweet       en  [('We', 'NON_NER'), ('do', 'NON_NER'), (\"n't\",...  "
      ]
     },
     "execution_count": 6,
     "metadata": {},
     "output_type": "execute_result"
    }
   ],
   "source": [
    "data.head()"
   ]
  },
  {
   "cell_type": "code",
   "execution_count": 7,
   "id": "a0e77d32-da52-4214-b50e-be4393fbdf37",
   "metadata": {},
   "outputs": [
    {
     "data": {
      "text/plain": [
       "'\\ntrain test split\\nsample data\\n'"
      ]
     },
     "execution_count": 7,
     "metadata": {},
     "output_type": "execute_result"
    }
   ],
   "source": [
    "'''\n",
    "train test split\n",
    "sample data\n",
    "'''"
   ]
  },
  {
   "cell_type": "code",
   "execution_count": 8,
   "id": "5095e317-93e1-4105-8ed9-76d8305a5688",
   "metadata": {},
   "outputs": [],
   "source": [
    "train = data.sample(frac=0.7)\n",
    "test = data.merge(train,indicator = True, how='left').loc[lambda x : x['_merge']!='both']"
   ]
  },
  {
   "cell_type": "code",
   "execution_count": 9,
   "id": "4f45827d-93b4-4978-ac39-467b576e21e7",
   "metadata": {},
   "outputs": [
    {
     "data": {
      "text/plain": [
       "(843163, 5)"
      ]
     },
     "execution_count": 9,
     "metadata": {},
     "output_type": "execute_result"
    }
   ],
   "source": [
    "train.shape"
   ]
  },
  {
   "cell_type": "code",
   "execution_count": 10,
   "id": "1258f148-5057-4b52-abe3-1a0894c8b5b3",
   "metadata": {},
   "outputs": [
    {
     "data": {
      "text/plain": [
       "(361355, 6)"
      ]
     },
     "execution_count": 10,
     "metadata": {},
     "output_type": "execute_result"
    }
   ],
   "source": [
    "test.shape"
   ]
  },
  {
   "cell_type": "code",
   "execution_count": 11,
   "id": "d6cc666a-2ad5-482f-ab83-93c842db76c0",
   "metadata": {},
   "outputs": [],
   "source": [
    "train.to_csv(\"train.csv\",index=False)"
   ]
  },
  {
   "cell_type": "code",
   "execution_count": 12,
   "id": "47050033-1de1-4e8e-8583-ce45767547f2",
   "metadata": {},
   "outputs": [],
   "source": [
    "test.to_csv(\"test.csv\",index=False)"
   ]
  },
  {
   "cell_type": "code",
   "execution_count": 13,
   "id": "c0ab22c7-1fc2-4f39-8495-68eeab45d37a",
   "metadata": {},
   "outputs": [],
   "source": [
    "# train_sample = train.sample(frac=0.01)\n",
    "# test_sample = test.sample(frac=0.01)"
   ]
  },
  {
   "cell_type": "code",
   "execution_count": 14,
   "id": "e9ebccb7-0b82-424c-bdf2-02c7d1cebed6",
   "metadata": {},
   "outputs": [],
   "source": [
    "# train_sample.to_csv(\"train_sample.csv\",index=False)\n",
    "# test_sample.to_csv(\"test_sample.csv\",index=False)"
   ]
  },
  {
   "cell_type": "code",
   "execution_count": 15,
   "id": "e2254f49-e9d7-448f-ab1e-0bbe9f7900d3",
   "metadata": {},
   "outputs": [],
   "source": [
    "# for i in train_sample['NER_tagged_data'].to_list()[:5]:\n",
    "#     print(i,end=\"\\n\\n\")"
   ]
  },
  {
   "cell_type": "code",
   "execution_count": null,
   "id": "90038593-7971-4b7f-997a-449ffe4dc3f1",
   "metadata": {},
   "outputs": [],
   "source": []
  },
  {
   "cell_type": "code",
   "execution_count": 16,
   "id": "2b9a3bd8-dc15-458d-9e4a-9eb68266c8ee",
   "metadata": {},
   "outputs": [],
   "source": [
    "def convert_to_list(example_string):\n",
    "    # try:\n",
    "    #     # Define the regular expression pattern\n",
    "    #     pattern = r'\\((.*?)\\)'\n",
    "        \n",
    "    #     # Use re.findall to find all matches in the input string\n",
    "    #     matches = re.findall(pattern, string)\n",
    "        \n",
    "    #     # Print the matches\n",
    "    #     # print(matches[0])\n",
    "    #     matches = [i.strip().split(\",\") for i in matches]\n",
    "    #     print(matches)\n",
    "    #     [print(i,end=\"\\n\\n\") for i in matches if len(i)<2]\n",
    "    #     matches = [(i[0].strip()[1:-1], i[1].strip()[1:-1]) for i in matches]\n",
    "    #     return matches\n",
    "    # except:\n",
    "    #     print(string)\n",
    "    #     return []\n",
    "\n",
    "    example_string = example_string.replace('\\n', '')\n",
    "\n",
    "    # Convert the string to a list of tuples using ast.literal_eval\n",
    "    list_of_tuples = ast.literal_eval(example_string)\n",
    "    return list_of_tuples"
   ]
  },
  {
   "cell_type": "code",
   "execution_count": 17,
   "id": "e2016f3f-1df7-407d-aa05-dfa765869633",
   "metadata": {},
   "outputs": [],
   "source": [
    "# print(train_sample['NER_tagged_data'].to_list()[1])\n",
    "# convert_to_list(train_sample['NER_tagged_data'].to_list()[1])"
   ]
  },
  {
   "cell_type": "code",
   "execution_count": 18,
   "id": "5ffff0a0-d1d4-484d-918f-6c06a22e51b9",
   "metadata": {},
   "outputs": [],
   "source": [
    "\n",
    "\n",
    "# # Your example string\n",
    "# example_string = '''[('On', 'NON_NER'), ('this', 'DATE'), ('day', 'DATE'), ('in', 'NON_NER'), ('1921', 'DATE'), (',', 'NON_NER'), ('the', 'NON_NER'), ('tulsa', 'NON_NER'), ('race', 'NON_NER'), ('massacre', 'NON_NER'), ('happened', 'NON_NER'), ('in', 'NON_NER'), ('the', 'NON_NER'), ('affluent', 'NON_NER'), ('black', 'NON_NER'), ('community', 'NON_NER'), ('of', 'NON_NER'), ('greenwood', 'NON_NER'), ('in', 'NON_NER'), ('tulsa', 'NON_NER'), ('(', 'NON_NER'), ('black', 'NON_NER'), ('wall', 'NON_NER'), ('street', 'NON_NER'), (')', 'NON_NER'), ('\\n', 'NON_NER'), ('white', 'NON_NER'), ('supremacists', 'NON_NER'), ('killed', 'NON_NER'), ('more', 'CARDINAL'), ('than', 'CARDINAL'), ('300', 'CARDINAL'), ('african', 'NORP'), ('americans', 'NORP'), ('and', 'NON_NER'), ('looted', 'NON_NER'), ('&', 'NON_NER'), ('burned', 'NON_NER'), ('to', 'NON_NER'), ('ground', 'NON_NER'), ('homes', 'NON_NER'), ('&', 'NON_NER'), ('businesses', 'NON_NER'), ('.', 'NON_NER'), ('\\n', 'NON_NER'), ('history', 'NON_NER'), ('of', 'NON_NER'), ('tulsa', 'NON_NER'), ('before', 'NON_NER'), ('the', 'NON_NER'), ('riot', 'NON_NER'), ('\\n', 'NON_NER'), ('a', 'NON_NER'), ('thread', 'NON_NER')]'''\n",
    "# example_string = example_string.replace('\\n', '')\n",
    "\n",
    "# # Convert the string to a list of tuples using ast.literal_eval\n",
    "# list_of_tuples = ast.literal_eval(example_string)\n",
    "\n",
    "# # Print the result\n",
    "# print(list_of_tuples)"
   ]
  },
  {
   "cell_type": "code",
   "execution_count": 19,
   "id": "9de63451-650a-417f-b137-77ae230b82bd",
   "metadata": {
    "scrolled": true
   },
   "outputs": [],
   "source": [
    "# convert_to_list('''[('On', 'NON_NER'), ('this', 'DATE'), ('day', 'DATE'), ('in', 'NON_NER'), ('1921', 'DATE'), (',', 'NON_NER'), ('the', 'NON_NER'), ('tulsa', 'NON_NER'), ('race', 'NON_NER'), ('massacre', 'NON_NER'), ('happened', 'NON_NER'), ('in', 'NON_NER'), ('the', 'NON_NER'), ('affluent', 'NON_NER'), ('black', 'NON_NER'), ('community', 'NON_NER'), ('of', 'NON_NER'), ('greenwood', 'NON_NER'), ('in', 'NON_NER'), ('tulsa', 'NON_NER'), ('(', 'NON_NER'), ('black', 'NON_NER'), ('wall', 'NON_NER'), ('street', 'NON_NER'), (')', 'NON_NER'), ('\\n', 'NON_NER'), ('white', 'NON_NER'), ('supremacists', 'NON_NER'), ('killed', 'NON_NER'), ('more', 'CARDINAL'), ('than', 'CARDINAL'), ('300', 'CARDINAL'), ('african', 'NORP'), ('americans', 'NORP'), ('and', 'NON_NER'), ('looted', 'NON_NER'), ('&', 'NON_NER'), ('burned', 'NON_NER'), ('to', 'NON_NER'), ('ground', 'NON_NER'), ('homes', 'NON_NER'), ('&', 'NON_NER'), ('businesses', 'NON_NER'), ('.', 'NON_NER'), ('\\n', 'NON_NER'), ('history', 'NON_NER'), ('of', 'NON_NER'), ('tulsa', 'NON_NER'), ('before', 'NON_NER'), ('the', 'NON_NER'), ('riot', 'NON_NER'), ('\\n', 'NON_NER'), ('a', 'NON_NER'), ('thread', 'NON_NER')]''')"
   ]
  },
  {
   "cell_type": "code",
   "execution_count": 20,
   "id": "384a1f8d-9fc4-42eb-98e7-ff1b944fd866",
   "metadata": {
    "scrolled": true
   },
   "outputs": [],
   "source": [
    "# train_sample['sent_list'] = train_sample['NER_tagged_data'].apply(convert_to_list)\n",
    "# test_sample['sent_list'] = test_sample['NER_tagged_data'].apply(convert_to_list)"
   ]
  },
  {
   "cell_type": "code",
   "execution_count": 21,
   "id": "e7916ac6-cd7d-4076-bfc7-069e427c7a71",
   "metadata": {},
   "outputs": [],
   "source": [
    "train['sent_list'] = train['NER_tagged_data'].apply(convert_to_list)\n",
    "test['sent_list'] = test['NER_tagged_data'].apply(convert_to_list)"
   ]
  },
  {
   "cell_type": "code",
   "execution_count": 22,
   "id": "30322cb3-55ce-4c53-9c0b-b806e87e8018",
   "metadata": {},
   "outputs": [],
   "source": [
    "def word2features(sent, i):\n",
    "    word = sent[i][0]\n",
    "    # postag = sent[i][1]\n",
    "\n",
    "    features = {\n",
    "        'bias': 1.0,\n",
    "        'word.lower()': word.lower(),\n",
    "        'word[-3:]': word[-3:],\n",
    "        'word.isupper()': word.isupper(),\n",
    "        'word.istitle()': word.istitle(),\n",
    "        'word.isdigit()': word.isdigit(),\n",
    "        # 'postag': postag,\n",
    "        # 'postag[:2]': postag[:2],\n",
    "    }\n",
    "    if i > 0:\n",
    "        word1 = sent[i-1][0]\n",
    "        postag1 = sent[i-1][1]\n",
    "        features.update({\n",
    "            '-1:word.lower()': word1.lower(),\n",
    "            '-1:word.istitle()': word1.istitle(),\n",
    "            '-1:word.isupper()': word1.isupper(),\n",
    "            # '-1:postag': postag1,\n",
    "            # '-1:postag[:2]': postag1[:2],\n",
    "        })\n",
    "    else:\n",
    "        features['BOS'] = True\n",
    "\n",
    "    if i < len(sent)-1:\n",
    "        word1 = sent[i+1][0]\n",
    "        postag1 = sent[i+1][1]\n",
    "        features.update({\n",
    "            '+1:word.lower()': word1.lower(),\n",
    "            '+1:word.istitle()': word1.istitle(),\n",
    "            '+1:word.isupper()': word1.isupper(),\n",
    "            # '+1:postag': postag1,\n",
    "            # '+1:postag[:2]': postag1[:2],\n",
    "        })\n",
    "    else:\n",
    "        features['EOS'] = True\n",
    "\n",
    "    return features\n",
    "\n",
    "\n",
    "def sent2features(sent):\n",
    "    return [word2features(sent, i) for i in range(len(sent))]\n",
    "\n",
    "def sent2labels(sent):\n",
    "    return [label for token, label in sent]\n",
    "\n",
    "def sent2tokens(sent):\n",
    "    return [token for token, label in sent]"
   ]
  },
  {
   "cell_type": "code",
   "execution_count": 23,
   "id": "469de8cc-7d4c-4871-b4f0-61d97d930498",
   "metadata": {},
   "outputs": [],
   "source": [
    "# X_train[0][1]"
   ]
  },
  {
   "cell_type": "code",
   "execution_count": 24,
   "id": "106f87de-ca6b-4484-8709-486f8228ff08",
   "metadata": {},
   "outputs": [],
   "source": [
    "X_train = [sent2features(s) for s in train['sent_list'].to_list()]"
   ]
  },
  {
   "cell_type": "code",
   "execution_count": 1,
   "id": "d20e182f-089f-4b9c-8341-71e962c81c23",
   "metadata": {},
   "outputs": [],
   "source": [
    "import json"
   ]
  },
  {
   "cell_type": "code",
   "execution_count": 26,
   "id": "91ee1b5f-7ef8-4235-8162-80602484c899",
   "metadata": {},
   "outputs": [],
   "source": [
    "# feat_dict = json.dumps()"
   ]
  },
  {
   "cell_type": "code",
   "execution_count": 27,
   "id": "81d1fc00-4ca2-44f7-997e-bd29f628c74b",
   "metadata": {},
   "outputs": [],
   "source": [
    "with open(\"X_train.json\",\"w\") as file:\n",
    "    json.dump({\"X_train\":X_train},file)"
   ]
  },
  {
   "cell_type": "code",
   "execution_count": 28,
   "id": "eecd22ea-4c91-46f5-8ed8-62918f379550",
   "metadata": {},
   "outputs": [],
   "source": [
    "y_train = [sent2labels(s) for s in train['sent_list'].to_list()]"
   ]
  },
  {
   "cell_type": "code",
   "execution_count": 29,
   "id": "14baeb44-393b-40e3-bb45-f1ada35d7f84",
   "metadata": {},
   "outputs": [],
   "source": [
    "with open(\"y_train.json\",\"w\") as file:\n",
    "    json.dump({\"y_train\":y_train},file)"
   ]
  },
  {
   "cell_type": "code",
   "execution_count": null,
   "id": "d8e2567d-cab3-498f-a34a-25bc8f90430d",
   "metadata": {},
   "outputs": [],
   "source": [
    "X_test = [sent2features(s) for s in test['sent_list'].to_list()]"
   ]
  },
  {
   "cell_type": "code",
   "execution_count": null,
   "id": "1d45365c-0de8-4d9e-bb9c-9c5759f4e06a",
   "metadata": {},
   "outputs": [],
   "source": [
    "with open(\"X_test.json\",\"w\") as file:\n",
    "    json.dump({\"X_test\":X_test},file)"
   ]
  },
  {
   "cell_type": "code",
   "execution_count": null,
   "id": "57b8858c-371c-4d9f-a2a9-3874079a2607",
   "metadata": {},
   "outputs": [],
   "source": [
    "y_test = [sent2labels(s) for s in test['sent_list'].to_list()]"
   ]
  },
  {
   "cell_type": "code",
   "execution_count": null,
   "id": "b40baf21-062b-4e39-ae86-0cd0e056d00f",
   "metadata": {},
   "outputs": [],
   "source": [
    "with open(\"y_test.json\",\"w\") as file:\n",
    "    json.dump({\"y_test\":y_test},file)"
   ]
  },
  {
   "cell_type": "code",
   "execution_count": 5,
   "id": "4454dbe5-6169-4503-873a-a49a498ddba6",
   "metadata": {},
   "outputs": [],
   "source": [
    "with open(\"X_train.json\",\"r\") as file:\n",
    "    feat = json.load(file)"
   ]
  },
  {
   "cell_type": "code",
   "execution_count": 7,
   "id": "5e79d299-8491-4607-a0f1-5d52ef2a6eb9",
   "metadata": {},
   "outputs": [
    {
     "data": {
      "text/plain": [
       "843163"
      ]
     },
     "execution_count": 7,
     "metadata": {},
     "output_type": "execute_result"
    }
   ],
   "source": [
    "len(feat[\"X_train\"])"
   ]
  },
  {
   "cell_type": "code",
   "execution_count": 8,
   "id": "bc9a29d8-19ed-4e24-9552-bc98e3ea96ca",
   "metadata": {},
   "outputs": [],
   "source": [
    "with open(\"y_train.json\",\"r\") as file:\n",
    "    label = json.load(file)"
   ]
  },
  {
   "cell_type": "code",
   "execution_count": 11,
   "id": "effdf494-d76b-4b6e-8ecf-922b8459643d",
   "metadata": {},
   "outputs": [
    {
     "data": {
      "text/plain": [
       "843163"
      ]
     },
     "execution_count": 11,
     "metadata": {},
     "output_type": "execute_result"
    }
   ],
   "source": [
    "len(label[\"y_train\"])"
   ]
  },
  {
   "cell_type": "code",
   "execution_count": 12,
   "id": "39006cce-98ea-4af2-a3fa-f260d103936d",
   "metadata": {},
   "outputs": [],
   "source": [
    "data = pd.DataFrame()\n",
    "data['feat'] = feat[\"X_train\"]\n",
    "data['label'] = label[\"y_train\"]"
   ]
  },
  {
   "cell_type": "code",
   "execution_count": 14,
   "id": "184b0d9c-a193-488c-8c0a-2f9c2c11a717",
   "metadata": {},
   "outputs": [
    {
     "data": {
      "text/html": [
       "<div>\n",
       "<style scoped>\n",
       "    .dataframe tbody tr th:only-of-type {\n",
       "        vertical-align: middle;\n",
       "    }\n",
       "\n",
       "    .dataframe tbody tr th {\n",
       "        vertical-align: top;\n",
       "    }\n",
       "\n",
       "    .dataframe thead th {\n",
       "        text-align: right;\n",
       "    }\n",
       "</style>\n",
       "<table border=\"1\" class=\"dataframe\">\n",
       "  <thead>\n",
       "    <tr style=\"text-align: right;\">\n",
       "      <th></th>\n",
       "      <th>feat</th>\n",
       "      <th>label</th>\n",
       "    </tr>\n",
       "  </thead>\n",
       "  <tbody>\n",
       "    <tr>\n",
       "      <th>0</th>\n",
       "      <td>[{'bias': 1.0, 'word.lower()': 'this', 'word[-...</td>\n",
       "      <td>[NON_NER, NON_NER, NON_NER, NON_NER, NON_NER, ...</td>\n",
       "    </tr>\n",
       "    <tr>\n",
       "      <th>1</th>\n",
       "      <td>[{'bias': 1.0, 'word.lower()': 'that', 'word[-...</td>\n",
       "      <td>[NON_NER, NON_NER, NON_NER, NON_NER, NON_NER, ...</td>\n",
       "    </tr>\n",
       "    <tr>\n",
       "      <th>2</th>\n",
       "      <td>[{'bias': 1.0, 'word.lower()': 'new', 'word[-3...</td>\n",
       "      <td>[NON_NER, NON_NER, NON_NER, NON_NER, NON_NER, ...</td>\n",
       "    </tr>\n",
       "    <tr>\n",
       "      <th>3</th>\n",
       "      <td>[{'bias': 1.0, 'word.lower()': 'on', 'word[-3:...</td>\n",
       "      <td>[NON_NER, DATE, DATE, NON_NER, DATE, NON_NER, ...</td>\n",
       "    </tr>\n",
       "    <tr>\n",
       "      <th>4</th>\n",
       "      <td>[{'bias': 1.0, 'word.lower()': 'i', 'word[-3:]...</td>\n",
       "      <td>[NON_NER, NON_NER, NON_NER, NON_NER, NON_NER, ...</td>\n",
       "    </tr>\n",
       "  </tbody>\n",
       "</table>\n",
       "</div>"
      ],
      "text/plain": [
       "                                                feat  \\\n",
       "0  [{'bias': 1.0, 'word.lower()': 'this', 'word[-...   \n",
       "1  [{'bias': 1.0, 'word.lower()': 'that', 'word[-...   \n",
       "2  [{'bias': 1.0, 'word.lower()': 'new', 'word[-3...   \n",
       "3  [{'bias': 1.0, 'word.lower()': 'on', 'word[-3:...   \n",
       "4  [{'bias': 1.0, 'word.lower()': 'i', 'word[-3:]...   \n",
       "\n",
       "                                               label  \n",
       "0  [NON_NER, NON_NER, NON_NER, NON_NER, NON_NER, ...  \n",
       "1  [NON_NER, NON_NER, NON_NER, NON_NER, NON_NER, ...  \n",
       "2  [NON_NER, NON_NER, NON_NER, NON_NER, NON_NER, ...  \n",
       "3  [NON_NER, DATE, DATE, NON_NER, DATE, NON_NER, ...  \n",
       "4  [NON_NER, NON_NER, NON_NER, NON_NER, NON_NER, ...  "
      ]
     },
     "execution_count": 14,
     "metadata": {},
     "output_type": "execute_result"
    }
   ],
   "source": [
    "data.head()"
   ]
  },
  {
   "cell_type": "code",
   "execution_count": 15,
   "id": "20195558-d576-4c68-bd84-c0eb734510ad",
   "metadata": {},
   "outputs": [],
   "source": [
    "train = data.iloc[:int(len(data)*0.7)]\n",
    "test = data.iloc[int(len(data)*0.7):]"
   ]
  },
  {
   "cell_type": "code",
   "execution_count": 16,
   "id": "0d07cdbe-b3da-43c9-9461-440104462c61",
   "metadata": {},
   "outputs": [],
   "source": [
    "X_train = train['feat'].to_list()\n",
    "y_train = train['label'].to_list()\n",
    "X_test = test['feat'].to_list()\n",
    "y_test = test['label'].to_list()"
   ]
  },
  {
   "cell_type": "code",
   "execution_count": 18,
   "id": "cff7e5a8-2ef6-4c16-9d20-68c8386c1d28",
   "metadata": {},
   "outputs": [],
   "source": [
    "import time"
   ]
  },
  {
   "cell_type": "code",
   "execution_count": 19,
   "id": "5bcabf45-603f-4a1c-8ffa-47c3df95e9cd",
   "metadata": {},
   "outputs": [
    {
     "name": "stdout",
     "output_type": "stream",
     "text": [
      "Training Time : 31.180336101849875\n"
     ]
    }
   ],
   "source": [
    "start = time.time()\n",
    "crf = sklearn_crfsuite.CRF(\n",
    "    algorithm='lbfgs',\n",
    "    c1=0.1,\n",
    "    c2=0.1,\n",
    "    max_iterations=20,\n",
    "    all_possible_transitions=False,\n",
    ")\n",
    "crf.fit(X_train, y_train)\n",
    "\n",
    "print(f\"Training Time : {(time.time() - start)/60}\")"
   ]
  },
  {
   "cell_type": "code",
   "execution_count": 20,
   "id": "55c7a3fe-8d88-423e-bf6f-4acdb2f749f1",
   "metadata": {},
   "outputs": [],
   "source": [
    "crf.tagger_.dump(filename=\"crf_tagger.txt\")"
   ]
  },
  {
   "cell_type": "code",
   "execution_count": 21,
   "id": "6582648a-7203-4135-97cd-cc83b4c553a2",
   "metadata": {},
   "outputs": [
    {
     "data": {
      "text/plain": [
       "['CARDINAL',\n",
       " 'DATE',\n",
       " 'EVENT',\n",
       " 'FAC',\n",
       " 'GPE',\n",
       " 'LANGUAGE',\n",
       " 'LAW',\n",
       " 'LOC',\n",
       " 'MONEY',\n",
       " 'NON_NER',\n",
       " 'NORP',\n",
       " 'ORDINAL',\n",
       " 'ORG',\n",
       " 'PERCENT',\n",
       " 'PERSON',\n",
       " 'PRODUCT',\n",
       " 'QUANTITY',\n",
       " 'TIME',\n",
       " 'WORK_OF_ART']"
      ]
     },
     "execution_count": 21,
     "metadata": {},
     "output_type": "execute_result"
    }
   ],
   "source": [
    "labels = list(crf.classes_)\n",
    "# labels.remove('O')\n",
    "labels.sort()\n",
    "labels"
   ]
  },
  {
   "cell_type": "code",
   "execution_count": 43,
   "id": "c8132031-8a1d-4d23-8c55-75aa9272147d",
   "metadata": {},
   "outputs": [],
   "source": [
    "# import joblib\n",
    "\n",
    "# # save\n",
    "# joblib.dump(crf, \"model.pkl\") \n",
    "\n",
    "# # load\n",
    "# clf2 = joblib.load(\"model.pkl\")\n",
    "\n",
    "# # clf2.predict(X[0:1])"
   ]
  },
  {
   "cell_type": "code",
   "execution_count": 23,
   "id": "030c1d9d-fe4f-4a61-bfcc-0adf37f76158",
   "metadata": {},
   "outputs": [],
   "source": [
    "from sklearn_crfsuite import scorers\n",
    "from sklearn_crfsuite import metrics"
   ]
  },
  {
   "cell_type": "code",
   "execution_count": 42,
   "id": "c334f854-3f74-484a-b294-779333d7a43a",
   "metadata": {},
   "outputs": [],
   "source": [
    "y_pred = crf.predict(X_test)"
   ]
  },
  {
   "cell_type": "code",
   "execution_count": 29,
   "id": "4ff4ad57-1296-4be8-9b97-9d42bc7b965c",
   "metadata": {},
   "outputs": [
    {
     "data": {
      "text/plain": [
       "252949"
      ]
     },
     "execution_count": 29,
     "metadata": {},
     "output_type": "execute_result"
    }
   ],
   "source": [
    "len(y_pred)"
   ]
  },
  {
   "cell_type": "code",
   "execution_count": 48,
   "id": "c7aa2662-6dae-470f-8515-674f3e786a2e",
   "metadata": {},
   "outputs": [],
   "source": [
    "# y_test[:10]"
   ]
  },
  {
   "cell_type": "code",
   "execution_count": 40,
   "id": "585b2e6b-7c89-41b2-a8f3-2915a42b6005",
   "metadata": {},
   "outputs": [
    {
     "data": {
      "text/plain": [
       "['NON_NER',\n",
       " 'PERSON',\n",
       " 'NON_NER',\n",
       " 'NON_NER',\n",
       " 'NON_NER',\n",
       " 'NON_NER',\n",
       " 'NON_NER',\n",
       " 'NON_NER',\n",
       " 'NON_NER',\n",
       " 'NON_NER']"
      ]
     },
     "execution_count": 40,
     "metadata": {},
     "output_type": "execute_result"
    }
   ],
   "source": [
    "y_test[0][:10]"
   ]
  },
  {
   "cell_type": "code",
   "execution_count": 50,
   "id": "595fd6f2-1ae9-43ba-a0a2-faf0d6ca2c0a",
   "metadata": {},
   "outputs": [],
   "source": [
    "from sklearn.preprocessing import MultiLabelBinarizer\n",
    "# y = [[2, 3, 4], [2], [0, 1, 3], [0, 1, 2, 3, 4], [0, 1, 2]]\n",
    "trans = MultiLabelBinarizer().fit(y_test)\n",
    "y_trans = trans.transform(y_test)\n",
    "y_pred_trans = trans.transform(y_pred)"
   ]
  },
  {
   "cell_type": "code",
   "execution_count": 46,
   "id": "67d12663-b1c9-41c6-92f4-32a48caf0998",
   "metadata": {},
   "outputs": [
    {
     "data": {
      "text/plain": [
       "array([[0, 0, 0, 0, 0, 0, 0, 0, 0, 1, 0, 0, 0, 0, 1, 0, 0, 0, 0],\n",
       "       [1, 0, 0, 0, 0, 0, 0, 0, 0, 1, 0, 0, 1, 0, 0, 0, 0, 0, 0],\n",
       "       [0, 0, 0, 0, 0, 0, 0, 0, 0, 1, 0, 0, 0, 0, 0, 0, 0, 0, 0],\n",
       "       [0, 0, 0, 0, 0, 0, 0, 0, 0, 1, 1, 0, 0, 0, 0, 0, 0, 0, 0],\n",
       "       [0, 0, 0, 0, 0, 0, 0, 0, 0, 1, 0, 0, 0, 0, 0, 0, 0, 0, 0],\n",
       "       [1, 0, 0, 0, 0, 0, 0, 0, 0, 1, 0, 0, 0, 0, 1, 0, 0, 0, 0],\n",
       "       [0, 0, 0, 0, 0, 0, 0, 0, 0, 1, 0, 0, 1, 0, 0, 0, 0, 0, 0],\n",
       "       [1, 0, 0, 0, 0, 0, 0, 0, 0, 1, 1, 0, 0, 0, 0, 0, 0, 0, 0],\n",
       "       [1, 0, 0, 0, 0, 0, 0, 0, 0, 1, 0, 1, 0, 0, 0, 0, 0, 0, 0],\n",
       "       [0, 0, 0, 0, 0, 0, 0, 0, 0, 1, 1, 0, 0, 0, 1, 0, 0, 0, 0]])"
      ]
     },
     "execution_count": 46,
     "metadata": {},
     "output_type": "execute_result"
    }
   ],
   "source": [
    "y_trans[:10]"
   ]
  },
  {
   "cell_type": "code",
   "execution_count": 54,
   "id": "18000a77-cafe-4d80-a6e3-b2e7d9af85eb",
   "metadata": {},
   "outputs": [],
   "source": [
    "y_test_expand = []\n",
    "for i in y_test: y_test_expand.extend(i) "
   ]
  },
  {
   "cell_type": "code",
   "execution_count": 55,
   "id": "280b996a-b8ae-4b13-9d39-05bc1736f02c",
   "metadata": {},
   "outputs": [],
   "source": [
    "y_pred_expand = []\n",
    "for i in y_pred: y_pred_expand.extend(i) "
   ]
  },
  {
   "cell_type": "code",
   "execution_count": 56,
   "id": "a5496bf1-e988-45c2-9874-31b5d2a46cf9",
   "metadata": {},
   "outputs": [
    {
     "name": "stderr",
     "output_type": "stream",
     "text": [
      "/packages/apps/jupyter/2023-10-09/lib/python3.11/site-packages/sklearn/metrics/_classification.py:1469: UndefinedMetricWarning: Precision and F-score are ill-defined and being set to 0.0 in labels with no predicted samples. Use `zero_division` parameter to control this behavior.\n",
      "  _warn_prf(average, modifier, msg_start, len(result))\n",
      "/packages/apps/jupyter/2023-10-09/lib/python3.11/site-packages/sklearn/metrics/_classification.py:1469: UndefinedMetricWarning: Precision and F-score are ill-defined and being set to 0.0 in labels with no predicted samples. Use `zero_division` parameter to control this behavior.\n",
      "  _warn_prf(average, modifier, msg_start, len(result))\n"
     ]
    },
    {
     "name": "stdout",
     "output_type": "stream",
     "text": [
      "              precision    recall  f1-score   support\n",
      "\n",
      "    CARDINAL      0.592     0.425     0.495     83652\n",
      "        DATE      0.722     0.713     0.717    158171\n",
      "       EVENT      0.000     0.000     0.000       760\n",
      "         FAC      0.000     0.000     0.000      2276\n",
      "         GPE      0.861     0.172     0.287     74287\n",
      "    LANGUAGE      0.000     0.000     0.000       492\n",
      "         LAW      0.000     0.000     0.000       338\n",
      "         LOC      0.000     0.000     0.000      4313\n",
      "       MONEY      0.642     0.772     0.701     31868\n",
      "     NON_NER      0.956     0.993     0.974   9000608\n",
      "        NORP      0.810     0.568     0.668     84288\n",
      "     ORDINAL      0.000     0.000     0.000      7157\n",
      "         ORG      0.740     0.221     0.341    112706\n",
      "     PERCENT      0.000     0.000     0.000     15230\n",
      "      PERSON      0.748     0.121     0.209    136683\n",
      "     PRODUCT      0.000     0.000     0.000       593\n",
      "    QUANTITY      0.000     0.000     0.000      2361\n",
      "        TIME      0.000     0.000     0.000     10889\n",
      " WORK_OF_ART      0.000     0.000     0.000       434\n",
      "\n",
      "    accuracy                          0.947   9727106\n",
      "   macro avg      0.320     0.210     0.231   9727106\n",
      "weighted avg      0.936     0.947     0.934   9727106\n",
      "\n"
     ]
    },
    {
     "name": "stderr",
     "output_type": "stream",
     "text": [
      "/packages/apps/jupyter/2023-10-09/lib/python3.11/site-packages/sklearn/metrics/_classification.py:1469: UndefinedMetricWarning: Precision and F-score are ill-defined and being set to 0.0 in labels with no predicted samples. Use `zero_division` parameter to control this behavior.\n",
      "  _warn_prf(average, modifier, msg_start, len(result))\n"
     ]
    }
   ],
   "source": [
    "print(classification_report(\n",
    "    y_test_expand, y_pred_expand, labels=labels, digits=3\n",
    "))"
   ]
  },
  {
   "cell_type": "code",
   "execution_count": 35,
   "id": "d2340d2a-f506-41e5-9210-64b48138d5a1",
   "metadata": {},
   "outputs": [
    {
     "name": "stdout",
     "output_type": "stream",
     "text": [
      "Name: scikit-learn\n",
      "Version: 1.3.1\n",
      "Summary: A set of python modules for machine learning and data mining\n",
      "Home-page: http://scikit-learn.org\n",
      "Author: \n",
      "Author-email: \n",
      "License: new BSD\n",
      "Location: /packages/apps/jupyter/2023-10-09/lib/python3.11/site-packages\n",
      "Requires: joblib, numpy, scipy, threadpoolctl\n",
      "Required-by: eli5, mapclassify\n"
     ]
    }
   ],
   "source": [
    "!pip show scikit-learn"
   ]
  },
  {
   "cell_type": "code",
   "execution_count": null,
   "id": "8e016614-a2ff-436d-abd5-76565f9f78aa",
   "metadata": {},
   "outputs": [],
   "source": []
  }
 ],
 "metadata": {
  "kernelspec": {
   "display_name": "Python 3 (ipykernel)",
   "language": "python",
   "name": "python3"
  },
  "language_info": {
   "codemirror_mode": {
    "name": "ipython",
    "version": 3
   },
   "file_extension": ".py",
   "mimetype": "text/x-python",
   "name": "python",
   "nbconvert_exporter": "python",
   "pygments_lexer": "ipython3",
   "version": "3.11.6"
  }
 },
 "nbformat": 4,
 "nbformat_minor": 5
}
