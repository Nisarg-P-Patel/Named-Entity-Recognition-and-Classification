{
  "nbformat": 4,
  "nbformat_minor": 0,
  "metadata": {
    "colab": {
      "provenance": []
    },
    "kernelspec": {
      "name": "python3",
      "display_name": "Python 3"
    },
    "language_info": {
      "name": "python"
    }
  },
  "cells": [
    {
      "cell_type": "code",
      "source": [
        "from google.colab import drive\n",
        "drive.mount('/content/drive')"
      ],
      "metadata": {
        "id": "LwLbf1ah11oS"
      },
      "execution_count": null,
      "outputs": []
    },
    {
      "cell_type": "code",
      "source": [
        "import pandas as pd"
      ],
      "metadata": {
        "id": "oIRwZfS211kw"
      },
      "execution_count": null,
      "outputs": []
    },
    {
      "cell_type": "code",
      "source": [
        "NER_data = pd.read_csv(\"/content/drive/MyDrive/SWM/data.csv\")\n",
        "NER_data.head()"
      ],
      "metadata": {
        "id": "x86Cn1tD11hu"
      },
      "execution_count": null,
      "outputs": []
    },
    {
      "cell_type": "code",
      "source": [
        "NER_data.shape"
      ],
      "metadata": {
        "id": "ESE7APqk11fW"
      },
      "execution_count": null,
      "outputs": []
    },
    {
      "cell_type": "code",
      "source": [
        "NER_all_words = NER_data['Named_entity'].tolist()\n",
        "# print(NER_all_words)"
      ],
      "metadata": {
        "id": "D7dZqT2F11c8"
      },
      "execution_count": null,
      "outputs": []
    },
    {
      "cell_type": "code",
      "source": [
        "len(NER_all_words)"
      ],
      "metadata": {
        "id": "7qV6tX-O1_70"
      },
      "execution_count": null,
      "outputs": []
    },
    {
      "cell_type": "code",
      "source": [
        "tweet_data = pd.read_csv(\"/content/drive/MyDrive/SWM/race_tw_2023-05-24_2023-05-31.csv\")\n",
        "# tweet_data.head()"
      ],
      "metadata": {
        "id": "L0L_C-Gf2BT9"
      },
      "execution_count": null,
      "outputs": []
    },
    {
      "cell_type": "code",
      "source": [
        "tweet_data.shape"
      ],
      "metadata": {
        "id": "mkHkN2Pf2BQv"
      },
      "execution_count": null,
      "outputs": []
    },
    {
      "cell_type": "code",
      "source": [
        "tweet_data.columns"
      ],
      "metadata": {
        "id": "Kplp21w_2Hua"
      },
      "execution_count": null,
      "outputs": []
    },
    {
      "cell_type": "code",
      "source": [
        "columns_to_keep = ['tweet_id', 'tweet_text', 'tweet_type', 'language']\n",
        "tweet_data = tweet_data[columns_to_keep]\n",
        "tweet_data.head()"
      ],
      "metadata": {
        "id": "VhMNcXxZ2Hqz"
      },
      "execution_count": null,
      "outputs": []
    },
    {
      "cell_type": "code",
      "source": [
        "tweet_data.shape"
      ],
      "metadata": {
        "id": "ZsL798sN2HoX"
      },
      "execution_count": null,
      "outputs": []
    },
    {
      "cell_type": "code",
      "source": [
        "tweet_data['language'].value_counts()"
      ],
      "metadata": {
        "id": "EsT5KxJB2OQn"
      },
      "execution_count": null,
      "outputs": []
    },
    {
      "cell_type": "code",
      "source": [
        "tweet_data = tweet_data[tweet_data.language.isin(['en'])]\n",
        "tweet_data.shape"
      ],
      "metadata": {
        "id": "Oxw8S5Tk2Hl6"
      },
      "execution_count": null,
      "outputs": []
    },
    {
      "cell_type": "code",
      "source": [
        "tweet_data['tweet_type'].value_counts()"
      ],
      "metadata": {
        "id": "n35dQus02LBR"
      },
      "execution_count": null,
      "outputs": []
    },
    {
      "cell_type": "code",
      "source": [
        "tweet_data = tweet_data[tweet_data.tweet_type.isin(['retweet', 'reply', 'post'])]\n",
        "tweet_data.shape"
      ],
      "metadata": {
        "id": "T5A6amtj2K-B"
      },
      "execution_count": null,
      "outputs": []
    },
    {
      "cell_type": "code",
      "source": [
        "tweet_data = tweet_data.reset_index(drop=True)\n",
        "tweet_data.shape"
      ],
      "metadata": {
        "id": "377_13gm2K7L"
      },
      "execution_count": null,
      "outputs": []
    },
    {
      "cell_type": "code",
      "source": [
        "tweet_data.head()"
      ],
      "metadata": {
        "id": "sTDKidGW2K4t"
      },
      "execution_count": null,
      "outputs": []
    },
    {
      "cell_type": "code",
      "source": [
        "# Remove http links\n",
        "# transf = re.sub(r'https?://[^ ]+', '', tweet_1)\n",
        "\n",
        "# Remove usernames\n",
        "# transf = re.sub(r'@[^ ]+', '', tweet_2)\n",
        "\n",
        "# Remove hashtags\n",
        "# transf = re.sub(r'#', '', tweet_3)\n",
        "\n",
        "# Remove extra punctuation\n",
        "# transf = re.sub(r'[^A-Za-z ]', '', tweet_2)\n",
        "\n",
        "# Lower the data\n",
        "# transf = tweet_2.lower()\n",
        "\n",
        "# Capitalize the data\n",
        "# transf = tweet_2.capitalize()"
      ],
      "metadata": {
        "id": "rPlNx-gb2Vu1"
      },
      "execution_count": null,
      "outputs": []
    },
    {
      "cell_type": "code",
      "source": [
        "!pip install clean-text"
      ],
      "metadata": {
        "id": "SUUyCZDn2ZjA"
      },
      "execution_count": null,
      "outputs": []
    },
    {
      "cell_type": "code",
      "source": [
        "import re\n",
        "from cleantext import clean"
      ],
      "metadata": {
        "id": "DBd3BrSN2Vrd"
      },
      "execution_count": null,
      "outputs": []
    },
    {
      "cell_type": "code",
      "source": [
        "tweet_data.iloc[[0]]\n",
        "\n",
        "print(tweet_data.shape[0])"
      ],
      "metadata": {
        "id": "0oXetPRP2cE0"
      },
      "execution_count": null,
      "outputs": []
    },
    {
      "cell_type": "code",
      "source": [
        "for i in range(tweet_data.shape[0]):\n",
        "  # print(i)\n",
        "  temp = tweet_data.loc[i, 'tweet_text']\n",
        "  temp = re.sub(r'https?://[^ ]+', '', temp)\n",
        "  temp = re.sub(r'@[^ ]+', '', temp)\n",
        "  temp = re.sub(r'#[^ ]+', '', temp)\n",
        "  temp = clean(temp, no_emoji=True)\n",
        "  temp = temp.lower().capitalize()\n",
        "  if i%100000==0:\n",
        "    print(tweet_data.loc[i, 'tweet_text'])\n",
        "    print(temp)\n",
        "    print(\"--\"*50)\n",
        "  tweet_data.loc[i, 'tweet_text'] = temp"
      ],
      "metadata": {
        "id": "PHhlYhaK2etr"
      },
      "execution_count": null,
      "outputs": []
    },
    {
      "cell_type": "code",
      "source": [
        "tweet_data.head()"
      ],
      "metadata": {
        "id": "80jxZt5N2geu"
      },
      "execution_count": null,
      "outputs": []
    },
    {
      "cell_type": "code",
      "source": [
        "tweet_data.shape"
      ],
      "metadata": {
        "id": "7YXYxwaJ2hRT"
      },
      "execution_count": null,
      "outputs": []
    },
    {
      "cell_type": "code",
      "source": [
        "tweet_data.to_csv('/content/drive/MyDrive/SWM/filtered_tweets.csv', index=False)"
      ],
      "metadata": {
        "id": "8R3v8G092ilB"
      },
      "execution_count": null,
      "outputs": []
    },
    {
      "cell_type": "code",
      "source": [],
      "metadata": {
        "id": "CR8BYll-1ysw"
      },
      "execution_count": null,
      "outputs": []
    },
    {
      "cell_type": "code",
      "source": [
        "!pip install nltk"
      ],
      "metadata": {
        "id": "KyQZ-06c3C6e"
      },
      "execution_count": null,
      "outputs": []
    },
    {
      "cell_type": "code",
      "source": [
        "import nltk\n",
        "from nltk.tokenize import word_tokenize\n",
        "from nltk.tag import pos_tag\n",
        "\n",
        "import spacy\n",
        "import pprint\n",
        "from spacy import displacy\n",
        "from collections import Counter\n",
        "import en_core_web_sm"
      ],
      "metadata": {
        "id": "oy3yK63W3Fnf"
      },
      "execution_count": null,
      "outputs": []
    },
    {
      "cell_type": "code",
      "source": [
        "nlp = spacy.load('en_core_web_sm')\n",
        "\n",
        "tp_doc = nlp(tweet_data.loc[0, 'tweet_text'])\n",
        "tp_doc"
      ],
      "metadata": {
        "id": "VPyws46D3FkC"
      },
      "execution_count": null,
      "outputs": []
    },
    {
      "cell_type": "code",
      "source": [
        "print([(token.text, token.ent_iob_, token.ent_type_) for token in tp_doc])"
      ],
      "metadata": {
        "id": "bmnK4pEz3V2p"
      },
      "execution_count": null,
      "outputs": []
    },
    {
      "cell_type": "code",
      "source": [
        "nlp = spacy.load(\"en_core_web_sm\")\n",
        "doc = nlp(\"European authorities fined Google a record $5.1 billion on Wednesday for abusing its power in the mobile phone market and ordered the company to alter its practices\")\n",
        "\n",
        "for token in doc:\n",
        "    if token.ent_type_ == \"\":\n",
        "      token.ent_type_=\"SEN\"\n",
        "    print(token.text, token.ent_iob_, token.ent_type_) #, token.pos_, token.tag_)\n",
        "\n",
        "print(tweet_data.shape[0])"
      ],
      "metadata": {
        "id": "5BZSSsXp3Fhu"
      },
      "execution_count": null,
      "outputs": []
    },
    {
      "cell_type": "code",
      "source": [
        "NER_tagged_data = []\n",
        "\n",
        "for i in range(tweet_data.shape[0]):\n",
        "# for i in range(1204518):\n",
        "  # print(i)\n",
        "  doc = nlp(str(tweet_data.loc[i, 'tweet_text']))\n",
        "  sen_list = []\n",
        "  for token in doc:\n",
        "    if token.ent_type_ == \"\":\n",
        "      token.ent_type_=\"NON_NER\"\n",
        "    sen_list.append((token.text, token.ent_type_))\n",
        "    # print(token.text, token.ent_iob_, token.ent_type_) #, token.pos_, token.tag_)\n",
        "  NER_tagged_data.append(sen_list)\n",
        "  # break\n",
        "\n",
        "len(NER_tagged_data)"
      ],
      "metadata": {
        "id": "UqRgFbtO3WfF"
      },
      "execution_count": null,
      "outputs": []
    },
    {
      "cell_type": "code",
      "source": [
        "temp = []\n",
        "\n",
        "for i in range(len(NER_tagged_data),len(tweet_data)):\n",
        "  temp.append([])\n",
        "\n",
        "len(temp)"
      ],
      "metadata": {
        "id": "xU_3RT0v3Wbr"
      },
      "execution_count": null,
      "outputs": []
    },
    {
      "cell_type": "code",
      "source": [
        "data_for_NER = NER_tagged_data[:]\n",
        "data_for_NER.extend(temp)\n",
        "len(data_for_NER)"
      ],
      "metadata": {
        "id": "sd5ytRt03WZC"
      },
      "execution_count": null,
      "outputs": []
    },
    {
      "cell_type": "code",
      "source": [
        "tweet_data['NER_tagged_data'] = data_for_NER\n",
        "tweet_data.head()"
      ],
      "metadata": {
        "id": "nf_M_-7v3u6U"
      },
      "execution_count": null,
      "outputs": []
    },
    {
      "cell_type": "code",
      "source": [
        "tweet_data[:len(NER_tagged_data)].to_csv('/content/drive/MyDrive/SWM/NER_tagged_data.csv', index=False)"
      ],
      "metadata": {
        "id": "K248E-Js3u2z"
      },
      "execution_count": null,
      "outputs": []
    },
    {
      "cell_type": "code",
      "source": [],
      "metadata": {
        "id": "vMucE1-c3yBK"
      },
      "execution_count": null,
      "outputs": []
    }
  ]
}